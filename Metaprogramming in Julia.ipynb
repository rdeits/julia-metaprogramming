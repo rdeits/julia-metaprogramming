{
 "cells": [
  {
   "cell_type": "code",
   "execution_count": 1,
   "metadata": {},
   "outputs": [
    {
     "data": {
      "text/plain": [
       "4"
      ]
     },
     "execution_count": 1,
     "metadata": {},
     "output_type": "execute_result"
    }
   ],
   "source": [
    "# Let's start with the basics:\n",
    "2 + 2"
   ]
  },
  {
   "cell_type": "code",
   "execution_count": 2,
   "metadata": {},
   "outputs": [
    {
     "data": {
      "text/plain": [
       ":(2 + 2)"
      ]
     },
     "execution_count": 2,
     "metadata": {},
     "output_type": "execute_result"
    }
   ],
   "source": [
    "# But what does \"2 + 2\" actually mean in Julia?\n",
    "# Let's save that expression. The syntax :() lets\n",
    "# us capture a paresed expression as a Julia object:\n",
    "ex = :(2 + 2)"
   ]
  },
  {
   "cell_type": "code",
   "execution_count": 3,
   "metadata": {},
   "outputs": [
    {
     "name": "stdout",
     "output_type": "stream",
     "text": [
      "Expr\n",
      "  head: Symbol call\n",
      "  args: Array{Any}((3,))\n",
      "    1: Symbol +\n",
      "    2: Int64 2\n",
      "    3: Int64 2\n",
      "  typ: Any\n"
     ]
    }
   ],
   "source": [
    "# We can look at the expression in more detail with dump()\n",
    "dump(ex)"
   ]
  },
  {
   "cell_type": "code",
   "execution_count": 4,
   "metadata": {},
   "outputs": [
    {
     "data": {
      "text/plain": [
       ":(2 + 2)"
      ]
     },
     "execution_count": 4,
     "metadata": {},
     "output_type": "execute_result"
    }
   ],
   "source": [
    "# So :(2 + 2) is a `call` expression with the arguments `+`, `2`, and `2`. \n",
    "# We can construct that expression by hand if we want:\n",
    "ex2 = Expr(:call, :+, 2, 2)"
   ]
  },
  {
   "cell_type": "code",
   "execution_count": 6,
   "metadata": {},
   "outputs": [
    {
     "data": {
      "text/plain": [
       "true"
      ]
     },
     "execution_count": 6,
     "metadata": {},
     "output_type": "execute_result"
    }
   ],
   "source": [
    "# That's all there is to it. Those two expressions are the same:\n",
    "ex2 == ex"
   ]
  },
  {
   "cell_type": "code",
   "execution_count": 9,
   "metadata": {},
   "outputs": [
    {
     "data": {
      "text/plain": [
       ":(f(2 + 2))"
      ]
     },
     "execution_count": 9,
     "metadata": {},
     "output_type": "execute_result"
    }
   ],
   "source": [
    "# We can make expressions that are arbitrarily complicated by using\n",
    "# the Expr() constructor. Let's generate a nested function call:\n",
    "Expr(:call, :f, Expr(:call, :+, 2, 2))"
   ]
  },
  {
   "cell_type": "code",
   "execution_count": 10,
   "metadata": {},
   "outputs": [
    {
     "data": {
      "text/plain": [
       "4"
      ]
     },
     "execution_count": 10,
     "metadata": {},
     "output_type": "execute_result"
    }
   ],
   "source": [
    "# To evaluate an expression, we use eval():\n",
    "ex = :(2 + 2)\n",
    "eval(ex)"
   ]
  },
  {
   "cell_type": "code",
   "execution_count": 11,
   "metadata": {},
   "outputs": [
    {
     "ename": "LoadError",
     "evalue": "\u001b[91msyntax: unexpected )\u001b[39m",
     "output_type": "error",
     "traceback": [
      "\u001b[91msyntax: unexpected )\u001b[39m",
      ""
     ]
    }
   ],
   "source": [
    "# An Expr in Julia is always constructed from parsed data. So it's\n",
    "# impossible to have an Expr that corresponds to a syntax error. \n",
    "# That means that when you're metaprogramming in Julia, you'll never\n",
    "# accidentally produce code that can't be parsed. \n",
    "\n",
    "# For example, we can't construct an expression with an incomplete statement,\n",
    "# so the code below will fail:\n",
    ":(2 + )"
   ]
  },
  {
   "cell_type": "code",
   "execution_count": 41,
   "metadata": {},
   "outputs": [
    {
     "data": {
      "text/plain": [
       "x_to_y! (generic function with 1 method)"
      ]
     },
     "execution_count": 41,
     "metadata": {},
     "output_type": "execute_result"
    }
   ],
   "source": [
    "# We can write functions to transform Julia expressions into other\n",
    "# expressions. \n",
    "\n",
    "# # For example, let's create a really useless function that changes\n",
    "# every `x` variable in an expression into a `y`:\n",
    "# (note: we put a ! at the end of the function name because\n",
    "# it mutates its input argument. That's not a rule in Julia,\n",
    "# but it's a pretty widely followed convention).\n",
    "function x_to_y!(expr::Expr)\n",
    "    # For each argument in the expression:\n",
    "    for i in 1:length(expr.args)\n",
    "        # If that argument is the symbol :x\n",
    "        if expr.args[i] == :x\n",
    "            # Then replace it with the symbol :y\n",
    "            expr.args[i] = :y\n",
    "        # Otherwise, if that argument is another expression...\n",
    "        elseif isa(expr.args[i], Expr)\n",
    "            # Then recurse into that expression and change all its x's too\n",
    "            x_to_y!(expr.args[i])\n",
    "        end\n",
    "    end\n",
    "    return expr\n",
    "end\n"
   ]
  },
  {
   "cell_type": "code",
   "execution_count": 32,
   "metadata": {},
   "outputs": [
    {
     "data": {
      "text/plain": [
       ":(2 + y)"
      ]
     },
     "execution_count": 32,
     "metadata": {},
     "output_type": "execute_result"
    }
   ],
   "source": [
    "# Let's see it in action:\n",
    "x_to_y!(:(2 + x))"
   ]
  },
  {
   "cell_type": "code",
   "execution_count": 42,
   "metadata": {},
   "outputs": [
    {
     "data": {
      "text/plain": [
       ":(f(y * (2 + y)))"
      ]
     },
     "execution_count": 42,
     "metadata": {},
     "output_type": "execute_result"
    }
   ],
   "source": [
    "# And let's see it act recursively:\n",
    "x_to_y!(:(f(x * (2 + x))))"
   ]
  },
  {
   "cell_type": "code",
   "execution_count": 43,
   "metadata": {},
   "outputs": [
    {
     "data": {
      "text/plain": [
       ":(x1 + 1)"
      ]
     },
     "execution_count": 43,
     "metadata": {},
     "output_type": "execute_result"
    }
   ],
   "source": [
    "# Since the expression is already parsed by the time it's passed to\n",
    "# `x_to_y!()`, we don't have to worry about running any crazy regexes\n",
    "# to figure out exactly what corresponds to the variable `x`. For example,\n",
    "# our function will never be confused by some other variable that just \n",
    "# happens to contain an x:\n",
    "x_to_y!(:(x1 + 1))"
   ]
  },
  {
   "cell_type": "code",
   "execution_count": 35,
   "metadata": {},
   "outputs": [
    {
     "data": {
      "text/plain": [
       "@x_to_y (macro with 1 method)"
      ]
     },
     "execution_count": 35,
     "metadata": {},
     "output_type": "execute_result"
    }
   ],
   "source": [
    "# A macro in Julia is just a function that takes in parsed Julia\n",
    "# expressions and returns a new expression to be substituted into\n",
    "# the program. Whatever the macro returns will then be executed\n",
    "# when the program is run. \n",
    "\n",
    "# For example, let's write a macro that just calls our x_to_y function:\n",
    "\n",
    "macro x_to_y(expr)\n",
    "    return x_to_y!(expr)\n",
    "end\n"
   ]
  },
  {
   "cell_type": "code",
   "execution_count": 36,
   "metadata": {},
   "outputs": [
    {
     "data": {
      "text/plain": [
       "2"
      ]
     },
     "execution_count": 36,
     "metadata": {},
     "output_type": "execute_result"
    }
   ],
   "source": [
    "# Now let's use our macro! First we'll define the variable y:\n",
    "y = 2"
   ]
  },
  {
   "cell_type": "code",
   "execution_count": 37,
   "metadata": {},
   "outputs": [
    {
     "ename": "LoadError",
     "evalue": "\u001b[91mUndefVarError: x not defined\u001b[39m",
     "output_type": "error",
     "traceback": [
      "\u001b[91mUndefVarError: x not defined\u001b[39m",
      ""
     ]
    }
   ],
   "source": [
    "# Trying to do some computation with x will fail, since x isn't yet defined:\n",
    "x + 1"
   ]
  },
  {
   "cell_type": "code",
   "execution_count": 38,
   "metadata": {},
   "outputs": [
    {
     "data": {
      "text/plain": [
       "3"
      ]
     },
     "execution_count": 38,
     "metadata": {},
     "output_type": "execute_result"
    }
   ],
   "source": [
    "# But we can use our macro to turn that x into a y by magic!\n",
    "@x_to_y x + 1"
   ]
  },
  {
   "cell_type": "code",
   "execution_count": 39,
   "metadata": {},
   "outputs": [
    {
     "data": {
      "text/plain": [
       ":(Main.y + 1)"
      ]
     },
     "execution_count": 39,
     "metadata": {},
     "output_type": "execute_result"
    }
   ],
   "source": [
    "# In case it's not clear what the macro did, we can use\n",
    "# macroexpand() to show it:\n",
    "macroexpand(:(@x_to_y x + 1))"
   ]
  },
  {
   "cell_type": "code",
   "execution_count": 40,
   "metadata": {},
   "outputs": [
    {
     "data": {
      "text/plain": [
       "14.0"
      ]
     },
     "execution_count": 40,
     "metadata": {},
     "output_type": "execute_result"
    }
   ],
   "source": [
    "# And since our x_to_y! function is recursive, the macro will\n",
    "# work on arbitrarily nested expressions:\n",
    "@x_to_y x + 3 * (x + 2 / (x - 1))"
   ]
  },
  {
   "cell_type": "markdown",
   "metadata": {},
   "source": [
    "It's just that easy! For more on metaprogramming in Julia, \n",
    "check out the manual: <https://docs.julialang.org/en/stable/manual/metaprogramming/>\n"
   ]
  }
 ],
 "metadata": {
  "kernelspec": {
   "display_name": "Julia 0.6.0",
   "language": "julia",
   "name": "julia-0.6"
  },
  "language_info": {
   "file_extension": ".jl",
   "mimetype": "application/julia",
   "name": "julia",
   "version": "0.6.0"
  }
 },
 "nbformat": 4,
 "nbformat_minor": 2
}
